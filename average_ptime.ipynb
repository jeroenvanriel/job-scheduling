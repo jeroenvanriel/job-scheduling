{
 "cells": [
  {
   "cell_type": "markdown",
   "metadata": {},
   "source": [
    "First we load the processing times from the input data file."
   ]
  },
  {
   "cell_type": "code",
   "execution_count": 8,
   "metadata": {},
   "outputs": [
    {
     "name": "stdout",
     "output_type": "stream",
     "text": [
      "number of jobs in input: 100\n"
     ]
    }
   ],
   "source": [
    "ptimes = []\n",
    "\n",
    "input_file = open(\"ptimes.txt\", \"r\")\n",
    "for p in input_file:\n",
    "  ptimes.append(int(p))\n",
    "\n",
    "print(\"number of jobs in input: {}\".format(len(ptimes)))\n",
    "\n",
    "# sort list in descending order\n",
    "ptimes.sort(reverse=True)"
   ]
  },
  {
   "cell_type": "code",
   "execution_count": 9,
   "metadata": {},
   "outputs": [],
   "source": [
    "# number of machines\n",
    "m = 10"
   ]
  },
  {
   "cell_type": "code",
   "execution_count": 10,
   "metadata": {},
   "outputs": [],
   "source": [
    "# total processing time\n",
    "total_ptime = sum(ptimes)"
   ]
  },
  {
   "cell_type": "code",
   "execution_count": 11,
   "metadata": {},
   "outputs": [
    {
     "name": "stdout",
     "output_type": "stream",
     "text": [
      "50000000000.0\n",
      "5.000000e+10\n"
     ]
    }
   ],
   "source": [
    "# average processing time\n",
    "average_ptime = total_ptime / m\n",
    "print(average_ptime)\n",
    "print(\"{:e}\".format(average_ptime))"
   ]
  },
  {
   "cell_type": "code",
   "execution_count": null,
   "metadata": {},
   "outputs": [],
   "source": []
  }
 ],
 "metadata": {
  "kernelspec": {
   "display_name": "Python 3",
   "language": "python",
   "name": "python3"
  },
  "language_info": {
   "codemirror_mode": {
    "name": "ipython",
    "version": 3
   },
   "file_extension": ".py",
   "mimetype": "text/x-python",
   "name": "python",
   "nbconvert_exporter": "python",
   "pygments_lexer": "ipython3",
   "version": "3.7.8"
  }
 },
 "nbformat": 4,
 "nbformat_minor": 4
}
